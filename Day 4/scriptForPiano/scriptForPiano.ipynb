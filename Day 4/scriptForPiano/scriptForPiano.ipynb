{
  "nbformat": 4,
  "nbformat_minor": 0,
  "metadata": {
    "colab": {
      "name": "scriptForPiano.ipynb",
      "provenance": [],
      "collapsed_sections": []
    },
    "kernelspec": {
      "name": "python3",
      "display_name": "Python 3"
    },
    "language_info": {
      "name": "python"
    }
  },
  "cells": [
    {
      "cell_type": "markdown",
      "metadata": {
        "id": "XFRox3NLrmwa"
      },
      "source": [
        "Project for LHD : 2022\n",
        "\n",
        "**Made by Dev Sharma, Manav Desai, Ghulamyazdani, Akshat Nema.**\n"
      ]
    },
    {
      "cell_type": "code",
      "metadata": {
        "colab": {
          "base_uri": "https://localhost:8080/"
        },
        "id": "O0loRDeIqklY",
        "outputId": "07529b5a-642d-435a-a3e6-7ff0fec50d22"
      },
      "source": [
        "from pprint import pprint\n",
        "import numpy as np\n",
        "\n",
        "def get_piano_notes():\n",
        "    '''\n",
        "    Returns a dict object for all the piano \n",
        "    note's frequencies\n",
        "    '''\n",
        "    # White keys are in Uppercase and black keys (sharps) are in lowercase\n",
        "    octave = ['C', 'c', 'D', 'd', 'E', 'F', 'f', 'G', 'g', 'A', 'a', 'B'] \n",
        "    base_freq = 261.63 #Frequency of Note C4\n",
        "    \n",
        "    note_freqs = {octave[i]: base_freq * pow(2,(i/12)) for i in range(len(octave))}        \n",
        "    note_freqs[''] = 0.0 # silent note\n",
        "    \n",
        "    return note_freqs\n",
        "  \n",
        "  # To get the piano note's frequencies\n",
        "note_freqs = get_piano_notes()\n",
        "pprint(note_freqs)"
      ],
      "execution_count": 8,
      "outputs": [
        {
          "output_type": "stream",
          "name": "stdout",
          "text": [
            "{'': 0.0,\n",
            " 'A': 440.00745824565865,\n",
            " 'B': 493.8916728538229,\n",
            " 'C': 261.63,\n",
            " 'D': 293.66974569918125,\n",
            " 'E': 329.63314428399565,\n",
            " 'F': 349.2341510465061,\n",
            " 'G': 392.0020805232462,\n",
            " 'a': 466.1716632541139,\n",
            " 'c': 277.18732937722245,\n",
            " 'd': 311.1322574981619,\n",
            " 'f': 370.00069432367286,\n",
            " 'g': 415.31173722644}\n"
          ]
        }
      ]
    },
    {
      "cell_type": "code",
      "metadata": {
        "id": "5b6MLxCRqVRc"
      },
      "source": [
        "samplerate = 44100 #Frequecy in Hz\n",
        "\n",
        "\n",
        "def get_wave(freq, duration=0.5):\n",
        "    '''\n",
        "    Function takes the \"frequecy\" and \"time_duration\" for a wave \n",
        "    as the input and returns a \"numpy array\" of values at all points \n",
        "    in time\n",
        "    '''\n",
        "    \n",
        "    amplitude = 4096\n",
        "    t = np.linspace(0, duration, int(samplerate * duration))\n",
        "    wave = amplitude * np.sin(2 * np.pi * freq * t)\n",
        "    \n",
        "    return wave\n",
        "\n",
        "def get_song_data(music_notes):\n",
        "    '''\n",
        "    Function to concatenate all the waves (notes)\n",
        "    '''\n",
        "    note_freqs = get_piano_notes() # Function that we made earlier\n",
        "    song = [get_wave(note_freqs[note]) for note in music_notes.split('-')]\n",
        "    song = np.concatenate(song)\n",
        "    return song\n",
        "\n",
        "music_notes = 'C-C-G-G-A-A-G--F-F-E-E-D-D-C--G-G-F-F-E-E-D--G-G-F-F-E-E-D--C-C-G-G-A-A-G--F-F-E-E-D-D-C'\n",
        "data = get_song_data(music_notes)\n",
        "\n",
        "data = data * (16300/np.max(data)) # Adjusting the Amplitude (Optional)"
      ],
      "execution_count": 9,
      "outputs": []
    },
    {
      "cell_type": "code",
      "metadata": {
        "id": "BYqLUvYdqWqw"
      },
      "source": [
        "from scipy.io.wavfile import write\n",
        "write('twinkle-twinkle.wav', samplerate, data.astype(np.int16))"
      ],
      "execution_count": 10,
      "outputs": []
    }
  ]
}